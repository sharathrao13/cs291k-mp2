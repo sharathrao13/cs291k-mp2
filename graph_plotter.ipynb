{
 "metadata": {
  "name": ""
 },
 "nbformat": 3,
 "nbformat_minor": 0,
 "worksheets": [
  {
   "cells": [
    {
     "cell_type": "code",
     "collapsed": false,
     "input": [
      "import data_utils\n",
      "import numpy as np\n",
      "import matplotlib.pyplot as plt\n",
      "from __future__ import print_function\n",
      "from keras.models import Sequential\n",
      "from keras.layers.core import Dense, Dropout, Activation, Flatten\n",
      "from keras.layers.convolutional import Convolution2D, MaxPooling2D\n",
      "from keras.optimizers import SGD\n",
      "from keras.utils import np_utils\n",
      "\n",
      "%matplotlib inline\n",
      "plt.rcParams['figure.figsize'] = (10.0, 8.0) # set default size of plots\n",
      "plt.rcParams['image.interpolation'] = 'nearest'\n",
      "plt.rcParams['image.cmap'] = 'gray'\n",
      "\n",
      "# for auto-reloading external modules\n",
      "# see http://stackoverflow.com/questions/1907993/autoreload-of-modules-in-ipython\n",
      "%load_ext autoreload\n",
      "%autoreload 2\n",
      "\n",
      "if __name__ == '__main__':\n",
      "    batch_size = 32\n",
      "    nb_classes = 20\n",
      "    nb_epoch = 10\n",
      "\n",
      "    img_rows, img_cols = 32, 32\n",
      "    img_channels = 3\n",
      "\n",
      "    (X_train, y_train,X_test, y_test) = data_utils.load_CIFAR100(\"dataset/cifar-100-python/\")\n",
      "\n",
      "    X_val = X_train[490:500,:,:,:]\n",
      "    y_val = y_train[490:500]\n",
      "    X_train = X_train[0:490,:,:,:]\n",
      "    y_train = y_train[0:490]\n",
      "    X_test = X_test[0:100,:,:,:]\n",
      "    y_test = y_test[0:100]\n",
      "\n",
      "\n",
      "    Y_train = np_utils.to_categorical(y_train, nb_classes)\n",
      "    Y_val = np_utils.to_categorical(y_val, nb_classes)\n",
      "    Y_test = np_utils.to_categorical(y_test, nb_classes)\n",
      "\n",
      "    model = Sequential()\n",
      "\n",
      "    model.add(Convolution2D(32, 3, 3, border_mode='same',\n",
      "                            input_shape=(img_channels, img_rows, img_cols)))\n",
      "    model.add(Activation('relu'))\n",
      "    model.add(Convolution2D(32, 3, 3))\n",
      "    model.add(Activation('relu'))\n",
      "    model.add(MaxPooling2D(pool_size=(2, 2)))\n",
      "    model.add(Dropout(0.25))\n",
      "\n",
      "    model.add(Flatten())\n",
      "    model.add(Dense(512))\n",
      "    model.add(Activation('relu'))\n",
      "    model.add(Dropout(0.5))\n",
      "    model.add(Dense(nb_classes))\n",
      "    model.add(Activation('softmax'))\n",
      "\n",
      "    sgd = SGD(lr=0.01, decay=1e-6, momentum=0.95, nesterov=True)\n",
      "    model.compile(loss='categorical_crossentropy',\n",
      "                  optimizer=sgd,\n",
      "                  metrics=['accuracy'])\n",
      "\n",
      "    X_train = X_train.astype('float32')\n",
      "    X_val = X_val.astype('float32')\n",
      "    X_test = X_test.astype('float32')\n",
      "    X_train /= 255\n",
      "    X_test /= 255\n",
      "    X_val /=255\n",
      "\n",
      "    hist = model.fit(X_train, Y_train,\n",
      "                  batch_size=batch_size,\n",
      "                  nb_epoch=nb_epoch,\n",
      "                  validation_data=(X_val, Y_val),\n",
      "                  shuffle=True)\n",
      "    print('\\n\\n\\n\\n')\n",
      "    train_loss = hist.history['loss']\n",
      "    val_loss = hist.history['val_loss']\n",
      "    plt.subplot(2, 1, 1)\n",
      "    plt.plot(train_loss,'r')\n",
      "    plt.plot(val_loss,'b')\n",
      "    plt.title('Loss history')\n",
      "    plt.xlabel('Epoch')\n",
      "    plt.ylabel('Loss')"
     ],
     "language": "python",
     "metadata": {},
     "outputs": [
      {
       "output_type": "stream",
       "stream": "stdout",
       "text": [
        "The autoreload extension is already loaded. To reload it, use:\n",
        "  %reload_ext autoreload\n",
        "Train on 49 samples, validate on 1 samples"
       ]
      },
      {
       "output_type": "stream",
       "stream": "stdout",
       "text": [
        "\n",
        "Epoch 1/10\n"
       ]
      },
      {
       "output_type": "stream",
       "stream": "stdout",
       "text": [
        "\r",
        "32/49 [==================>...........] - ETA: 0s - loss: 3.0598 - acc: 0.0938"
       ]
      },
      {
       "output_type": "stream",
       "stream": "stdout",
       "text": [
        "\b\b\b\b\b\b\b\b\b\b\b\b\b\b\b\b\b\b\b\b\b\b\b\b\b\b\b\b\b\b\b\b\b\b\b\b\b\b\b\b\b\b\b\b\b\b\b\b\b\b\b\b\b\b\b\b\b\b\b\b\b\b\b\b\b\b\b\b\b\b\b\b\b\b\b\b\b\r",
        "49/49 [==============================] - 2s - loss: 3.3068 - acc: 0.0612 - val_loss: 3.2191 - val_acc: 0.0000e+00"
       ]
      },
      {
       "output_type": "stream",
       "stream": "stdout",
       "text": [
        "\n",
        "Epoch 2/10\n"
       ]
      },
      {
       "output_type": "stream",
       "stream": "stdout",
       "text": [
        "\r",
        "32/49 [==================>...........] - ETA: 0s - loss: 3.2712 - acc: 0.0625"
       ]
      },
      {
       "output_type": "stream",
       "stream": "stdout",
       "text": [
        "\b\b\b\b\b\b\b\b\b\b\b\b\b\b\b\b\b\b\b\b\b\b\b\b\b\b\b\b\b\b\b\b\b\b\b\b\b\b\b\b\b\b\b\b\b\b\b\b\b\b\b\b\b\b\b\b\b\b\b\b\b\b\b\b\b\b\b\b\b\b\b\b\b\b\b\b\b\r",
        "49/49 [==============================] - 2s - loss: 3.1570 - acc: 0.1020 - val_loss: 3.1181 - val_acc: 0.0000e+00"
       ]
      },
      {
       "output_type": "stream",
       "stream": "stdout",
       "text": [
        "\n",
        "Epoch 3/10\n"
       ]
      },
      {
       "output_type": "stream",
       "stream": "stdout",
       "text": [
        "\r",
        "32/49 [==================>...........] - ETA: 0s - loss: 2.8083 - acc: 0.1562"
       ]
      },
      {
       "output_type": "stream",
       "stream": "stdout",
       "text": [
        "\b\b\b\b\b\b\b\b\b\b\b\b\b\b\b\b\b\b\b\b\b\b\b\b\b\b\b\b\b\b\b\b\b\b\b\b\b\b\b\b\b\b\b\b\b\b\b\b\b\b\b\b\b\b\b\b\b\b\b\b\b\b\b\b\b\b\b\b\b\b\b\b\b\b\b\b\b\r",
        "49/49 [==============================] - 2s - loss: 2.9045 - acc: 0.1020 - val_loss: 2.9908 - val_acc: 0.0000e+00"
       ]
      },
      {
       "output_type": "stream",
       "stream": "stdout",
       "text": [
        "\n",
        "Epoch 4/10\n"
       ]
      },
      {
       "output_type": "stream",
       "stream": "stdout",
       "text": [
        "\r",
        "32/49 [==================>...........] - ETA: 0s - loss: 2.8188 - acc: 0.0938"
       ]
      },
      {
       "output_type": "stream",
       "stream": "stdout",
       "text": [
        "\b\b\b\b\b\b\b\b\b\b\b\b\b\b\b\b\b\b\b\b\b\b\b\b\b\b\b\b\b\b\b\b\b\b\b\b\b\b\b\b\b\b\b\b\b\b\b\b\b\b\b\b\b\b\b\b\b\b\b\b\b\b\b\b\b\b\b\b\b\b\b\b\b\b\b\b\b\r",
        "49/49 [==============================] - 2s - loss: 2.8088 - acc: 0.1633 - val_loss: 3.0368 - val_acc: 0.0000e+00"
       ]
      },
      {
       "output_type": "stream",
       "stream": "stdout",
       "text": [
        "\n",
        "Epoch 5/10\n"
       ]
      },
      {
       "output_type": "stream",
       "stream": "stdout",
       "text": [
        "\r",
        "32/49 [==================>...........] - ETA: 0s - loss: 2.7510 - acc: 0.1875"
       ]
      },
      {
       "output_type": "stream",
       "stream": "stdout",
       "text": [
        "\b\b\b\b\b\b\b\b\b\b\b\b\b\b\b\b\b\b\b\b\b\b\b\b\b\b\b\b\b\b\b\b\b\b\b\b\b\b\b\b\b\b\b\b\b\b\b\b\b\b\b\b\b\b\b\b\b\b\b\b\b\b\b\b\b\b\b\b\b\b\b\b\b\b\b\b\b\r",
        "49/49 [==============================] - 2s - loss: 2.8522 - acc: 0.1429 - val_loss: 3.1250 - val_acc: 0.0000e+00"
       ]
      },
      {
       "output_type": "stream",
       "stream": "stdout",
       "text": [
        "\n",
        "Epoch 6/10\n"
       ]
      },
      {
       "output_type": "stream",
       "stream": "stdout",
       "text": [
        "\r",
        "32/49 [==================>...........] - ETA: 0s - loss: 2.6650 - acc: 0.1875"
       ]
      },
      {
       "output_type": "stream",
       "stream": "stdout",
       "text": [
        "\b\b\b\b\b\b\b\b\b\b\b\b\b\b\b\b\b\b\b\b\b\b\b\b\b\b\b\b\b\b\b\b\b\b\b\b\b\b\b\b\b\b\b\b\b\b\b\b\b\b\b\b\b\b\b\b\b\b\b\b\b\b\b\b\b\b\b\b\b\b\b\b\b\b\b\b\b\r",
        "49/49 [==============================] - 2s - loss: 2.7542 - acc: 0.1633 - val_loss: 3.0891 - val_acc: 0.0000e+00"
       ]
      },
      {
       "output_type": "stream",
       "stream": "stdout",
       "text": [
        "\n",
        "Epoch 7/10\n"
       ]
      },
      {
       "output_type": "stream",
       "stream": "stdout",
       "text": [
        "\r",
        "32/49 [==================>...........] - ETA: 0s - loss: 2.7750 - acc: 0.1875"
       ]
      },
      {
       "output_type": "stream",
       "stream": "stdout",
       "text": [
        "\b\b\b\b\b\b\b\b\b\b\b\b\b\b\b\b\b\b\b\b\b\b\b\b\b\b\b\b\b\b\b\b\b\b\b\b\b\b\b\b\b\b\b\b\b\b\b\b\b\b\b\b\b\b\b\b\b\b\b\b\b\b\b\b\b\b\b\b\b\b\b\b\b\b\b\b\b\r",
        "49/49 [==============================] - 2s - loss: 2.7458 - acc: 0.1837 - val_loss: 3.0366 - val_acc: 0.0000e+00"
       ]
      },
      {
       "output_type": "stream",
       "stream": "stdout",
       "text": [
        "\n",
        "Epoch 8/10\n"
       ]
      },
      {
       "output_type": "stream",
       "stream": "stdout",
       "text": [
        "\r",
        "32/49 [==================>...........] - ETA: 0s - loss: 2.7551 - acc: 0.1562"
       ]
      },
      {
       "output_type": "stream",
       "stream": "stdout",
       "text": [
        "\b\b\b\b\b\b\b\b\b\b\b\b\b\b\b\b\b\b\b\b\b\b\b\b\b\b\b\b\b\b\b\b\b\b\b\b\b\b\b\b\b\b\b\b\b\b\b\b\b\b\b\b\b\b\b\b\b\b\b\b\b\b\b\b\b\b\b\b\b\b\b\b\b\b\b\b\b\r",
        "49/49 [==============================] - 2s - loss: 2.7073 - acc: 0.1837 - val_loss: 2.9820 - val_acc: 0.0000e+00"
       ]
      },
      {
       "output_type": "stream",
       "stream": "stdout",
       "text": [
        "\n",
        "Epoch 9/10\n"
       ]
      },
      {
       "output_type": "stream",
       "stream": "stdout",
       "text": [
        "\r",
        "32/49 [==================>...........] - ETA: 0s - loss: 2.5413 - acc: 0.2812"
       ]
      },
      {
       "output_type": "stream",
       "stream": "stdout",
       "text": [
        "\b\b\b\b\b\b\b\b\b\b\b\b\b\b\b\b\b\b\b\b\b\b\b\b\b\b\b\b\b\b\b\b\b\b\b\b\b\b\b\b\b\b\b\b\b\b\b\b\b\b\b\b\b\b\b\b\b\b\b\b\b\b\b\b\b\b\b\b\b\b\b\b\b\b\b\b\b\r",
        "49/49 [==============================] - 2s - loss: 2.5542 - acc: 0.3265 - val_loss: 3.0062 - val_acc: 0.0000e+00"
       ]
      },
      {
       "output_type": "stream",
       "stream": "stdout",
       "text": [
        "\n",
        "Epoch 10/10\n"
       ]
      },
      {
       "output_type": "stream",
       "stream": "stdout",
       "text": [
        "\r",
        "32/49 [==================>...........] - ETA: 0s - loss: 2.3467 - acc: 0.3750"
       ]
      },
      {
       "output_type": "stream",
       "stream": "stdout",
       "text": [
        "\b\b\b\b\b\b\b\b\b\b\b\b\b\b\b\b\b\b\b\b\b\b\b\b\b\b\b\b\b\b\b\b\b\b\b\b\b\b\b\b\b\b\b\b\b\b\b\b\b\b\b\b\b\b\b\b\b\b\b\b\b\b\b\b\b\b\b\b\b\b\b\b\b\b\b\b\b\r",
        "49/49 [==============================] - 2s - loss: 2.4112 - acc: 0.3469 - val_loss: 3.1429 - val_acc: 0.0000e+00"
       ]
      },
      {
       "output_type": "stream",
       "stream": "stdout",
       "text": [
        "\n",
        "\n",
        "\n",
        "\n",
        "\n",
        "\n"
       ]
      },
      {
       "metadata": {},
       "output_type": "display_data",
       "png": "[encoded data removed]",
       "text": [
        "<matplotlib.figure.Figure at 0x7f5357eae410>"
       ]
      }
     ],
     "prompt_number": 11
    },
    {
     "cell_type": "code",
     "collapsed": false,
     "input": [],
     "language": "python",
     "metadata": {},
     "outputs": []
    }
   ],
   "metadata": {}
  }
 ]
}